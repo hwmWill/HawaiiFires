{
 "cells": [
  {
   "cell_type": "code",
   "execution_count": 24,
   "metadata": {},
   "outputs": [],
   "source": [
    "import geopandas as gpd\n",
    "import pandas as pd"
   ]
  },
  {
   "cell_type": "code",
   "execution_count": 18,
   "metadata": {},
   "outputs": [],
   "source": [
    "maui = gpd.read_file('./data/mauiStructureTypes.json')\n",
    "fire = gpd.read_file('./data/EOS')\n",
    "fire = fire.loc[fire.ID == 'F7']\n",
    "parcels = gpd.read_file('/data/Parcels_-_Maui_County.zip')\n",
    "damage = gpd.read_file('./data/InferencedBuildingDamage.zip')"
   ]
  },
  {
   "cell_type": "code",
   "execution_count": 16,
   "metadata": {},
   "outputs": [],
   "source": [
    "# damaged buildings\n",
    "gpd.sjoin(damage.to_crs(maui.crs), \n",
    "          maui, \n",
    "          predicate='intersects', \n",
    "          how='left')[['ClassLabel','geometry']].reset_index()\\\n",
    ".to_file(\n",
    "              './cleanedData/DamagedBuildings.json',\n",
    "              driver='GeoJSON')"
   ]
  },
  {
   "cell_type": "code",
   "execution_count": 23,
   "metadata": {},
   "outputs": [],
   "source": [
    "fire.boundary.to_file('./cleanedData/FireBoundary.json', driver='GeoJSON')"
   ]
  },
  {
   "cell_type": "code",
   "execution_count": 38,
   "metadata": {},
   "outputs": [
    {
     "data": {
      "text/html": [
       "<div>\n",
       "<style scoped>\n",
       "    .dataframe tbody tr th:only-of-type {\n",
       "        vertical-align: middle;\n",
       "    }\n",
       "\n",
       "    .dataframe tbody tr th {\n",
       "        vertical-align: top;\n",
       "    }\n",
       "\n",
       "    .dataframe thead th {\n",
       "        text-align: right;\n",
       "    }\n",
       "</style>\n",
       "<table border=\"1\" class=\"dataframe\">\n",
       "  <thead>\n",
       "    <tr style=\"text-align: right;\">\n",
       "      <th></th>\n",
       "      <th>0</th>\n",
       "    </tr>\n",
       "  </thead>\n",
       "  <tbody>\n",
       "    <tr>\n",
       "      <th>Build Id</th>\n",
       "      <td>358935.0</td>\n",
       "    </tr>\n",
       "    <tr>\n",
       "      <th>Censuscode</th>\n",
       "      <td>15009031404.0</td>\n",
       "    </tr>\n",
       "    <tr>\n",
       "      <th>Class Label</th>\n",
       "      <td>Undamaged</td>\n",
       "    </tr>\n",
       "    <tr>\n",
       "      <th>Fips</th>\n",
       "      <td>15009.0</td>\n",
       "    </tr>\n",
       "    <tr>\n",
       "      <th>Image Date</th>\n",
       "      <td>7/18/2014 12:00:00 AM</td>\n",
       "    </tr>\n",
       "    <tr>\n",
       "      <th>Image Name</th>\n",
       "      <td>1030010035A81000</td>\n",
       "    </tr>\n",
       "    <tr>\n",
       "      <th>Occ Cls</th>\n",
       "      <td>Residential</td>\n",
       "    </tr>\n",
       "    <tr>\n",
       "      <th>Outbldg</th>\n",
       "      <td>NaN</td>\n",
       "    </tr>\n",
       "    <tr>\n",
       "      <th>Prim Occ</th>\n",
       "      <td>Multi - Family Dwelling</td>\n",
       "    </tr>\n",
       "    <tr>\n",
       "      <th>Prod Date</th>\n",
       "      <td>6/3/2019 12:00:00 AM</td>\n",
       "    </tr>\n",
       "    <tr>\n",
       "      <th>Prop Addr</th>\n",
       "      <td>NaN</td>\n",
       "    </tr>\n",
       "    <tr>\n",
       "      <th>Prop City</th>\n",
       "      <td>NaN</td>\n",
       "    </tr>\n",
       "    <tr>\n",
       "      <th>Prop St</th>\n",
       "      <td>Hawaii</td>\n",
       "    </tr>\n",
       "    <tr>\n",
       "      <th>Prop Zip</th>\n",
       "      <td>NaN</td>\n",
       "    </tr>\n",
       "    <tr>\n",
       "      <th>Remarks</th>\n",
       "      <td>NaN</td>\n",
       "    </tr>\n",
       "    <tr>\n",
       "      <th>Sec Occ</th>\n",
       "      <td>NaN</td>\n",
       "    </tr>\n",
       "    <tr>\n",
       "      <th>Source</th>\n",
       "      <td>ORNL</td>\n",
       "    </tr>\n",
       "    <tr>\n",
       "      <th>Usng</th>\n",
       "      <td>04Q GJ 43026 07966</td>\n",
       "    </tr>\n",
       "    <tr>\n",
       "      <th>Uuid</th>\n",
       "      <td>{0d1383b6-3982-42d6-8a0e-a73c8c38d014}</td>\n",
       "    </tr>\n",
       "    <tr>\n",
       "      <th>Val Method</th>\n",
       "      <td>Automated</td>\n",
       "    </tr>\n",
       "    <tr>\n",
       "      <th>Centroid X</th>\n",
       "      <td>1641176.33299</td>\n",
       "    </tr>\n",
       "    <tr>\n",
       "      <th>Centroid Y</th>\n",
       "      <td>189841.352373</td>\n",
       "    </tr>\n",
       "    <tr>\n",
       "      <th>Confidence</th>\n",
       "      <td>0.944616</td>\n",
       "    </tr>\n",
       "    <tr>\n",
       "      <th>Geometry</th>\n",
       "      <td>Polygon</td>\n",
       "    </tr>\n",
       "    <tr>\n",
       "      <th>Geometry (HI Structures)</th>\n",
       "      <td>MultiPolygon</td>\n",
       "    </tr>\n",
       "    <tr>\n",
       "      <th>H Adj Elev</th>\n",
       "      <td>NaN</td>\n",
       "    </tr>\n",
       "    <tr>\n",
       "      <th>Height</th>\n",
       "      <td>NaN</td>\n",
       "    </tr>\n",
       "    <tr>\n",
       "      <th>L Adj Elev</th>\n",
       "      <td>NaN</td>\n",
       "    </tr>\n",
       "    <tr>\n",
       "      <th>Latitude</th>\n",
       "      <td>20.855955</td>\n",
       "    </tr>\n",
       "    <tr>\n",
       "      <th>Longitude</th>\n",
       "      <td>-156.664385</td>\n",
       "    </tr>\n",
       "    <tr>\n",
       "      <th>Shape Area</th>\n",
       "      <td>0.0</td>\n",
       "    </tr>\n",
       "    <tr>\n",
       "      <th>Shape Length</th>\n",
       "      <td>0.000828</td>\n",
       "    </tr>\n",
       "    <tr>\n",
       "      <th>Sqfeet</th>\n",
       "      <td>2659.186768</td>\n",
       "    </tr>\n",
       "    <tr>\n",
       "      <th>Sqft</th>\n",
       "      <td>3699.311998</td>\n",
       "    </tr>\n",
       "    <tr>\n",
       "      <th>Sqmeters</th>\n",
       "      <td>247.046783</td>\n",
       "    </tr>\n",
       "  </tbody>\n",
       "</table>\n",
       "</div>"
      ],
      "text/plain": [
       "                                                               0\n",
       "Build Id                                                358935.0\n",
       "Censuscode                                         15009031404.0\n",
       "Class Label                                            Undamaged\n",
       "Fips                                                     15009.0\n",
       "Image Date                                 7/18/2014 12:00:00 AM\n",
       "Image Name                                      1030010035A81000\n",
       "Occ Cls                                              Residential\n",
       "Outbldg                                                      NaN\n",
       "Prim Occ                                 Multi - Family Dwelling\n",
       "Prod Date                                   6/3/2019 12:00:00 AM\n",
       "Prop Addr                                                    NaN\n",
       "Prop City                                                    NaN\n",
       "Prop St                                                   Hawaii\n",
       "Prop Zip                                                     NaN\n",
       "Remarks                                                      NaN\n",
       "Sec Occ                                                      NaN\n",
       "Source                                                      ORNL\n",
       "Usng                                          04Q GJ 43026 07966\n",
       "Uuid                      {0d1383b6-3982-42d6-8a0e-a73c8c38d014}\n",
       "Val Method                                             Automated\n",
       "Centroid X                                         1641176.33299\n",
       "Centroid Y                                         189841.352373\n",
       "Confidence                                              0.944616\n",
       "Geometry                                                 Polygon\n",
       "Geometry (HI Structures)                            MultiPolygon\n",
       "H Adj Elev                                                   NaN\n",
       "Height                                                       NaN\n",
       "L Adj Elev                                                   NaN\n",
       "Latitude                                               20.855955\n",
       "Longitude                                            -156.664385\n",
       "Shape Area                                                   0.0\n",
       "Shape Length                                            0.000828\n",
       "Sqfeet                                               2659.186768\n",
       "Sqft                                                 3699.311998\n",
       "Sqmeters                                              247.046783"
      ]
     },
     "execution_count": 38,
     "metadata": {},
     "output_type": "execute_result"
    }
   ],
   "source": [
    "df = pd.read_csv('./cleanedData/BuildingDamage & USA Structures_InferencedBuildingDamage.csv')\n",
    "df = df.loc[df['Occ Cls']=='Residential']\n",
    "df.head(1).T"
   ]
  },
  {
   "cell_type": "code",
   "execution_count": 31,
   "metadata": {},
   "outputs": [
    {
     "data": {
      "text/plain": [
       "Index(['Build Id', 'Censuscode', 'Class Label', 'Fips', 'Image Date',\n",
       "       'Image Name', 'Occ Cls', 'Outbldg', 'Prim Occ', 'Prod Date',\n",
       "       'Prop Addr', 'Prop City', 'Prop St', 'Prop Zip', 'Remarks', 'Sec Occ',\n",
       "       'Source', 'Usng', 'Uuid', 'Val Method', 'Centroid X', 'Centroid Y',\n",
       "       'Confidence', 'Geometry', 'Geometry (HI Structures)', 'H Adj Elev',\n",
       "       'Height', 'L Adj Elev', 'Latitude', 'Longitude', 'Shape Area',\n",
       "       'Shape Length', 'Sqfeet', 'Sqft', 'Sqmeters'],\n",
       "      dtype='object')"
      ]
     },
     "execution_count": 31,
     "metadata": {},
     "output_type": "execute_result"
    }
   ],
   "source": [
    "df.columns"
   ]
  },
  {
   "cell_type": "code",
   "execution_count": 35,
   "metadata": {},
   "outputs": [
    {
     "data": {
      "text/plain": [
       "Index(['SQFT', 'centroid_x', 'centroid_y', 'ClassLabel', 'confidence',\n",
       "       'geometry'],\n",
       "      dtype='object')"
      ]
     },
     "execution_count": 35,
     "metadata": {},
     "output_type": "execute_result"
    }
   ],
   "source": [
    "damage.columns"
   ]
  },
  {
   "cell_type": "code",
   "execution_count": 45,
   "metadata": {},
   "outputs": [],
   "source": [
    "gpd.GeoDataFrame(df.merge(damage, \n",
    "         right_on=['centroid_x', 'centroid_y'], \n",
    "         left_on=['Centroid X', 'Centroid Y'])\\\n",
    "[['Class Label', 'geometry',]]).reset_index()\\\n",
    "    .to_crs('WGS84').to_file(\n",
    "    './cleanedData/DamagedResidences.json',\n",
    "    driver='GeoJSON'\n",
    ")"
   ]
  },
  {
   "cell_type": "code",
   "execution_count": null,
   "metadata": {},
   "outputs": [],
   "source": []
  },
  {
   "cell_type": "code",
   "execution_count": 59,
   "metadata": {},
   "outputs": [],
   "source": [
    "damagedResiParcels = gpd.read_file('./cleanedData/DamagedResiParcels')\n",
    "damagedResiParcels = damagedResiParcels.loc[(damagedResiParcels.damaged==1)&(damagedResiParcels.prop_type!='Non-residential'),\n",
    "                                            ['prop_type', 'geometry']].reset_index()\n",
    "damagedResiParcels.to_file(\n",
    "    './cleanedData/DamagedResidentialParcels.json',\n",
    "    driver='GeoJSON'\n",
    ")"
   ]
  },
  {
   "cell_type": "code",
   "execution_count": 56,
   "metadata": {},
   "outputs": [
    {
     "data": {
      "text/plain": [
       "Index(['tmk_txt', 'damaged', 'yr_built', 'effec_yr', 'bldng_val', 'full_baths',\n",
       "       'half_baths', 'bedrooms', 'rooms', 'sf_living', 'sf_bldng', 'pittcode',\n",
       "       'prop_type', 'geometry'],\n",
       "      dtype='object')"
      ]
     },
     "execution_count": 56,
     "metadata": {},
     "output_type": "execute_result"
    }
   ],
   "source": [
    "damagedResiParcels.columns"
   ]
  },
  {
   "cell_type": "code",
   "execution_count": 54,
   "metadata": {},
   "outputs": [
    {
     "data": {
      "text/plain": [
       "array(['Non-residential', 'Short-term Rental', 'Owner-Occupied/Homeowner',\n",
       "       'Long-term Rental', 'Non-Owner-Occupied/Residential',\n",
       "       'Commercialized Residential', 'Apartment', 'Multiple Codes',\n",
       "       'Timeshare'], dtype=object)"
      ]
     },
     "execution_count": 54,
     "metadata": {},
     "output_type": "execute_result"
    }
   ],
   "source": [
    "damagedResiParcels.prop_type.unique()"
   ]
  },
  {
   "cell_type": "code",
   "execution_count": null,
   "metadata": {},
   "outputs": [],
   "source": []
  },
  {
   "cell_type": "code",
   "execution_count": null,
   "metadata": {},
   "outputs": [],
   "source": []
  },
  {
   "cell_type": "code",
   "execution_count": 8,
   "metadata": {},
   "outputs": [],
   "source": [
    "pitts = dict(zip(\n",
    "    sorted(list(parcels.pittcode.unique())),\n",
    "    ['Timeshare', 'Non-Owner-Occupied/Residential',\n",
    "    'Apartment', 'Non-residential',\n",
    "    'Non-residential', 'Non-residential',\n",
    "    'Non-residential', 'Non-residential',\n",
    "    'Owner-Occupied/Homeowner', 'Multiple Codes', \n",
    "    'Commercialized Residential', 'Short-term Rental', \n",
    "    'Long-term Rental']\n",
    "))\n",
    "fireParcels = gpd.overlay(fire, parcels, how='intersection')\n",
    "fireParcels['pittcode'] = fireParcels['pittcode'].map(lambda x: pitts[x])"
   ]
  },
  {
   "cell_type": "code",
   "execution_count": null,
   "metadata": {},
   "outputs": [],
   "source": []
  }
 ],
 "metadata": {
  "kernelspec": {
   "display_name": "hwFires",
   "language": "python",
   "name": "python3"
  },
  "language_info": {
   "codemirror_mode": {
    "name": "ipython",
    "version": 3
   },
   "file_extension": ".py",
   "mimetype": "text/x-python",
   "name": "python",
   "nbconvert_exporter": "python",
   "pygments_lexer": "ipython3",
   "version": "3.11.4"
  },
  "orig_nbformat": 4
 },
 "nbformat": 4,
 "nbformat_minor": 2
}
