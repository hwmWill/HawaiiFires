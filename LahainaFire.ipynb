{
 "cells": [
  {
   "cell_type": "markdown",
   "metadata": {},
   "source": [
    "# Lahaina Fire 2023"
   ]
  },
  {
   "cell_type": "code",
   "execution_count": 1,
   "metadata": {},
   "outputs": [],
   "source": [
    "import geopandas as gpd\n",
    "import matplotlib.pyplot as plt\n",
    "import pandas as pd"
   ]
  },
  {
   "cell_type": "markdown",
   "metadata": {},
   "source": [
    "Datasets"
   ]
  },
  {
   "cell_type": "code",
   "execution_count": 2,
   "metadata": {},
   "outputs": [],
   "source": [
    "# FEMA building damage classifications\n",
    "buildingDamage = gpd.read_file('./data/InferencedBuildingDamage.zip')\n",
    "# USA Structures structure type\n",
    "maui = gpd.read_file('./data/mauiStructureTypes.json')\n",
    "# NASA EIS fire perimeter\n",
    "fireBorder = gpd.read_file('./data/EOS')\n",
    "fireBorder = fireBorder.loc[fireBorder.ID == 'F7']\n",
    "# Maui tax toll\n",
    "parcels = gpd.read_file('data\\Parcels_-_Maui_County.zip')\n",
    "# Maui commercial structures\n",
    "commStruc = pd.read_csv('./data/comdat23/comdat23.txt', delimiter='\\t',\n",
    "                 header=None)\n",
    "commStruc['island']      = commStruc[0].str[0]\n",
    "commStruc['zone']        = commStruc[0].str[1]\n",
    "commStruc['section']     = commStruc[0].str[2]\n",
    "commStruc['plat']        = commStruc[0].str[3:6]\n",
    "commStruc['parcel']      = commStruc[0].str[6:9]\n",
    "commStruc['cpr']         = commStruc[0].str[9:13]\n",
    "commStruc['tax_yr']      = commStruc[0].str[13:18]\n",
    "commStruc['card']        = commStruc[0].str[18:23]\n",
    "commStruc['ident_units'] = commStruc[0].str[23:31]\n",
    "commStruc['units']       = commStruc[0].str[31:36]\n",
    "commStruc['strc_type']   = commStruc[0].str[36:39].str.strip()\n",
    "commStruc['grade']       = commStruc[0].str[39:42].str.strip()\n",
    "commStruc['strc_desc']   = commStruc[0].str[42:72].str.strip()\n",
    "commStruc['yr_built']    = commStruc[0].str[72:77]\n",
    "commStruc['effec_yr']    = commStruc[0].str[77:82]\n",
    "commStruc['impr_name']   = commStruc[0].str[82:112].str.strip()\n",
    "commStruc['bldng_val']   = commStruc[0].str[112:122]\n",
    "\n",
    "commStruc.replace(r'^\\s*$', None, regex=True, inplace = True)\n",
    "\n",
    "commStruc['tax_yr']      = commStruc.tax_yr.astype('float')\n",
    "commStruc['card']        = commStruc.card.astype('float')\n",
    "commStruc['ident_units'] = commStruc.ident_units.astype('float')\n",
    "commStruc['units']       = commStruc.units.astype('float')\n",
    "commStruc['yr_built']    = commStruc.yr_built.astype('float')\n",
    "commStruc['effec_yr']    = commStruc.effec_yr.astype('float')\n",
    "commStruc['bldng_val']   = commStruc.bldng_val.astype('float')\n",
    "\n",
    "commStruc['tmk_txt'] = commStruc.island + commStruc.zone + commStruc.section + commStruc.plat + commStruc.parcel\n",
    "\n",
    "commStruc = commStruc[['tmk_txt', 'yr_built', 'effec_yr', 'bldng_val']]\n",
    "\n",
    "# Maui residential structures\n",
    "res = pd.read_csv('./data/dweldat23/dweldat23.txt', delimiter='\\t',\n",
    "                 header=None)\n",
    "res['island']     = res[0].str[0]\n",
    "res['zone']       = res[0].str[1]\n",
    "res['section']    = res[0].str[2]\n",
    "res['plat']       = res[0].str[3:6]\n",
    "res['parcel']     = res[0].str[6:9]\n",
    "res['cpr']        = res[0].str[9:13]\n",
    "res['tax_yr']     = res[0].str[13:18]\n",
    "res['card']       = res[0].str[18:23]\n",
    "res['story_ht']   = res[0].str[23:32]\n",
    "res['ext_wall']   = res[0].str[32:35]\n",
    "res['framing']    = res[0].str[35:38]\n",
    "res['occ']        = res[0].str[38:40]\n",
    "res['roof']       = res[0].str[40:43]\n",
    "res['full_baths'] = res[0].str[43:50]\n",
    "res['half_baths'] = res[0].str[50:57]\n",
    "res['addtl_ftrs'] = res[0].str[57:64]\n",
    "res['total_fxtr'] = res[0].str[64:70]\n",
    "res['ac']         = res[0].str[70]\n",
    "res['attic']      = res[0].str[71]\n",
    "res['rooms']      = res[0].str[72:77]\n",
    "res['bedrooms']   = res[0].str[77:82]\n",
    "res['family_rms'] = res[0].str[82:87]\n",
    "res['foundation'] = res[0].str[87:90]\n",
    "res['basement']   = res[0].str[90]\n",
    "res['construct']  = res[0].str[91:93]\n",
    "res['flooring']   = res[0].str[93:96]\n",
    "res['int_wall_s'] = res[0].str[96:99]\n",
    "res['roof_mat']   = res[0].str[99:102]\n",
    "res['int_wall_m'] = res[0].str[102:105]\n",
    "res['condo_fl']   = res[0].str[105:113]\n",
    "res['condo_type'] = res[0].str[113:116]\n",
    "res['condo_view'] = res[0].str[116:119]\n",
    "res['condo_pkng'] = res[0].str[119:122]\n",
    "res['condo_style']= res[0].str[122:125]\n",
    "res['duplex']     = res[0].str[125:127]\n",
    "res['yr_built']   = res[0].str[127:132]\n",
    "res['effec_yr']   = res[0].str[132:136]\n",
    "res['condition']  = res[0].str[136]\n",
    "res['grade']      = res[0].str[137:139]\n",
    "res['shape_fact'] = res[0].str[139:143]\n",
    "res['perc_done']  = res[0].str[143:154]\n",
    "res['ceiling_m']  = res[0].str[154:157]\n",
    "res['sf_living']  = res[0].str[157:164]\n",
    "res['sf_bldng']   = res[0].str[164:172]\n",
    "res['sf_addtnl']  = res[0].str[172:180]\n",
    "res['bldng_val']  = res[0].str[180:191]\n",
    "res['fireplc_ft'] = res[0].str[191:197]\n",
    "res['prefab_fps'] = res[0].str[197:199]\n",
    "res['wood_fps']   = res[0].str[199:201]\n",
    "res['cst_des_adj']= res[0].str[201:]\n",
    "\n",
    "res.replace(r'^\\s*$', None, regex=True, inplace = True)\n",
    "\n",
    "res['tmk_txt'] = res.island + res.zone + res.section + res.plat + res.parcel\n",
    "\n",
    "res['tax_yr']      = res.tax_yr.astype('float')\n",
    "res['card']        = res.card.astype('float')\n",
    "res['full_baths']  = res.full_baths.astype('float')\n",
    "res['half_baths']  = res.half_baths.astype('float')\n",
    "res['rooms']       = res.rooms.astype('float')\n",
    "res['bedrooms']    = res.bedrooms.astype('float')\n",
    "res['family_rms']  = res.family_rms.astype('float')\n",
    "res['sf_living']   = res.sf_living.astype('float')\n",
    "res['sf_bldng']    = res.sf_bldng.astype('float')\n",
    "res['sf_addtnl']   = res.sf_addtnl.astype('float')\n",
    "res['yr_built']    = res.yr_built.astype('float')\n",
    "res['effec_yr']    = res.effec_yr.astype('float')\n",
    "res['bldng_val']   = res.bldng_val.astype('float')\n",
    "\n",
    "res = res[['tmk_txt', 'yr_built', 'effec_yr', 'bldng_val', 'full_baths', 'half_baths', 'bedrooms', 'rooms', 'sf_living', 'sf_bldng']]"
   ]
  },
  {
   "cell_type": "code",
   "execution_count": 3,
   "metadata": {},
   "outputs": [],
   "source": [
    "buildingDamage = buildingDamage.to_crs(maui.crs)"
   ]
  },
  {
   "cell_type": "code",
   "execution_count": 4,
   "metadata": {},
   "outputs": [
    {
     "data": {
      "text/plain": [
       "True"
      ]
     },
     "execution_count": 4,
     "metadata": {},
     "output_type": "execute_result"
    }
   ],
   "source": [
    "buildingDamage.crs == maui.crs == fireBorder.crs == parcels.crs"
   ]
  },
  {
   "cell_type": "markdown",
   "metadata": {},
   "source": [
    "Overlays"
   ]
  },
  {
   "cell_type": "code",
   "execution_count": 5,
   "metadata": {},
   "outputs": [
    {
     "data": {
      "text/plain": [
       "(2629, 27)"
      ]
     },
     "execution_count": 5,
     "metadata": {},
     "output_type": "execute_result"
    }
   ],
   "source": [
    "fireParcels = gpd.overlay(fireBorder, parcels, how='intersection')\n",
    "fireParcels.shape"
   ]
  },
  {
   "cell_type": "code",
   "execution_count": 6,
   "metadata": {},
   "outputs": [
    {
     "data": {
      "text/plain": [
       "Index(['ID', 'n_pixels', 'n_newpixel', 'farea', 'fperim', 'flinelen',\n",
       "       'duration', 'pixden', 'meanFRP', 't', 'objectid', 'tmk', 'tmk_txt',\n",
       "       'cty_tmk', 'landvalue', 'landexempt', 'bldgvalue', 'bldgexempt',\n",
       "       'pittcode', 'homeowner', 'nhoodcode', 'taxacres', 'gisacres',\n",
       "       'qpub_link', 'st_areasha', 'st_perimet', 'SQFT', 'centroid_x',\n",
       "       'centroid_y', 'ClassLabel', 'confidence', 'geometry'],\n",
       "      dtype='object')"
      ]
     },
     "execution_count": 6,
     "metadata": {},
     "output_type": "execute_result"
    }
   ],
   "source": [
    "fireParcels.overlay(buildingDamage).columns"
   ]
  },
  {
   "cell_type": "code",
   "execution_count": 7,
   "metadata": {},
   "outputs": [
    {
     "data": {
      "text/plain": [
       "2595"
      ]
     },
     "execution_count": 7,
     "metadata": {},
     "output_type": "execute_result"
    }
   ],
   "source": [
    "fp = fireParcels.tmk_txt.unique()\n",
    "len(fp)"
   ]
  },
  {
   "cell_type": "markdown",
   "metadata": {},
   "source": [
    "from selenium import webdriver\n",
    "from selenium.webdriver.chrome.options import Options\n",
    "from selenium.webdriver.common.by import By\n",
    "from selenium.webdriver.support.wait import WebDriverWait\n",
    "from selenium.webdriver.support import expected_conditions as EC\n",
    "\n",
    "import time\n",
    "\n",
    "from  bs4 import BeautifulSoup\n",
    "\n",
    "options = Options()\n",
    "options.add_argument('--incognito')\n",
    "\n",
    "# driver = webdriver.Chrome(options=options)\n",
    "driver = webdriver.Chrome()\n",
    "driver.get('https://qpublic.schneidercorp.com/Application.aspx?AppID=1029&PageTypeID=4&KeyValue=460010090000')\n",
    "WebDriverWait(driver, 20).until(EC.presence_of_element_located((By.XPATH, '//*[@id=\"appBody\"]/div[4]/div/div/div[2]/div[2]/a[1]')))\n",
    "driver.find_element('xpath', '//*[@id=\"appBody\"]/div[4]/div/div/div[2]/div[2]/a[1]').click()\n",
    "\n",
    "parcelDamage = pd.DataFrame()\n",
    "\n",
    "for parcel in fp:\n",
    "    url = fireParcels.loc[fireParcels.tmk_txt == parcel, ['tmk_txt','qpub_link']].groupby('tmk_txt').first().reset_index()['qpub_link'][0]\n",
    "    time.sleep(2)\n",
    "    driver.get(url)\n",
    "    # WebDriverWait(driver, 20).until(EC.presence_of_element_located((By.XPATH, '//*[@id=\"maincontent\"]')))\n",
    "    page = driver.page_source \n",
    "    soup = BeautifulSoup(page)\n",
    "    # print(soup.prettify())\n",
    "    tbodies = soup.find_all(id='maincontent')[0].find_all('tbody')\n",
    "    try:\n",
    "        d = {'tmk_txt':[parcel], tbodies[3].th.text.strip():[tbodies[3].td.text.strip()]}\n",
    "        assert [*d.keys()][0] == 'Damage'\n",
    "        parcelDamage = pd.concat([parcelDamage, pd.DataFrame(d)], ignore_index=True)\n",
    "    except:\n",
    "        parcelDamage = pd.concat([parcelDamage, pd.DataFrame({'tmk_txt':[parcel], 'Damage':[None]})])\n",
    "\n",
    "\n",
    "driver.quit()\n",
    "print(parcelDamage)"
   ]
  },
  {
   "cell_type": "markdown",
   "metadata": {},
   "source": [
    "parcelDamage"
   ]
  },
  {
   "cell_type": "code",
   "execution_count": 8,
   "metadata": {},
   "outputs": [],
   "source": [
    "fpd = fireParcels.overlay(buildingDamage)\n",
    "fpd = fpd.loc[fpd.ClassLabel == 'Damaged'].tmk_txt.unique()"
   ]
  },
  {
   "cell_type": "code",
   "execution_count": 9,
   "metadata": {},
   "outputs": [
    {
     "data": {
      "text/plain": [
       "2137"
      ]
     },
     "execution_count": 9,
     "metadata": {},
     "output_type": "execute_result"
    }
   ],
   "source": [
    "len(fireParcels.overlay(buildingDamage).tmk_txt.unique())"
   ]
  },
  {
   "cell_type": "code",
   "execution_count": 10,
   "metadata": {},
   "outputs": [
    {
     "data": {
      "text/plain": [
       "(2595, 2)"
      ]
     },
     "execution_count": 10,
     "metadata": {},
     "output_type": "execute_result"
    }
   ],
   "source": [
    "parcelsDamage = pd.DataFrame({'tmk_txt':fp, 'damaged':[x in fpd for x in fp]})\n",
    "parcelsDamage.shape"
   ]
  },
  {
   "cell_type": "code",
   "execution_count": 11,
   "metadata": {},
   "outputs": [],
   "source": [
    "joined = parcelsDamage.merge(\n",
    "    res.loc[res.tmk_txt.isin(parcelsDamage.tmk_txt)].groupby('tmk_txt').agg({\n",
    "    'yr_built':  'min',\n",
    "    'effec_yr':  'min',\n",
    "    'bldng_val': 'sum',\n",
    "    'full_baths':'sum',\n",
    "    'half_baths':'sum',\n",
    "    'bedrooms':  'sum',\n",
    "    'rooms':     'sum',\n",
    "    'sf_living': 'sum',\n",
    "    'sf_bldng':  'sum'\n",
    "    }),\n",
    "    on='tmk_txt',\n",
    "    how='left').merge(\n",
    "    commStruc.loc[commStruc.tmk_txt.isin(parcelsDamage.tmk_txt)].groupby('tmk_txt').agg({\n",
    "        'yr_built':  'min',\n",
    "        'effec_yr':  'min',\n",
    "        'bldng_val': 'sum',\n",
    "        }),\n",
    "    on=['tmk_txt', 'yr_built', 'effec_yr', 'bldng_val'],\n",
    "    how='left').merge(\n",
    "    fireParcels[['tmk_txt', 'geometry', 'pittcode']].groupby('tmk_txt').first().reset_index(),\n",
    "    on='tmk_txt',\n",
    "    how='left'\n",
    "    )"
   ]
  },
  {
   "cell_type": "code",
   "execution_count": 12,
   "metadata": {},
   "outputs": [],
   "source": [
    "pitts = dict(zip(\n",
    "    sorted(list(parcels.pittcode.unique())),\n",
    "    ['Timeshare', 'Non-Owner-Occupied/Residential',\n",
    "    'Apartment', 'Non-residential',\n",
    "    'Non-residential', 'Non-residential',\n",
    "    'Non-residential', 'Non-residential',\n",
    "    'Owner-Occupied/Homeowner', 'Multiple Codes', \n",
    "    'Commercialized Residential', 'Short-term Rental', \n",
    "    'Long-term Rental']\n",
    "))\n",
    "joined['prop_type'] = joined.pittcode.map(lambda x: pitts[x])"
   ]
  },
  {
   "cell_type": "code",
   "execution_count": 13,
   "metadata": {},
   "outputs": [
    {
     "data": {
      "text/html": [
       "<div>\n",
       "<style scoped>\n",
       "    .dataframe tbody tr th:only-of-type {\n",
       "        vertical-align: middle;\n",
       "    }\n",
       "\n",
       "    .dataframe tbody tr th {\n",
       "        vertical-align: top;\n",
       "    }\n",
       "\n",
       "    .dataframe thead th {\n",
       "        text-align: right;\n",
       "    }\n",
       "</style>\n",
       "<table border=\"1\" class=\"dataframe\">\n",
       "  <thead>\n",
       "    <tr style=\"text-align: right;\">\n",
       "      <th></th>\n",
       "      <th>tmk_txt</th>\n",
       "      <th>damaged</th>\n",
       "      <th>yr_built</th>\n",
       "      <th>effec_yr</th>\n",
       "      <th>bldng_val</th>\n",
       "      <th>full_baths</th>\n",
       "      <th>half_baths</th>\n",
       "      <th>bedrooms</th>\n",
       "      <th>rooms</th>\n",
       "      <th>sf_living</th>\n",
       "      <th>sf_bldng</th>\n",
       "      <th>geometry</th>\n",
       "      <th>pittcode</th>\n",
       "      <th>prop_type</th>\n",
       "    </tr>\n",
       "  </thead>\n",
       "  <tbody>\n",
       "    <tr>\n",
       "      <th>0</th>\n",
       "      <td>246001009</td>\n",
       "      <td>True</td>\n",
       "      <td>NaN</td>\n",
       "      <td>NaN</td>\n",
       "      <td>NaN</td>\n",
       "      <td>NaN</td>\n",
       "      <td>NaN</td>\n",
       "      <td>NaN</td>\n",
       "      <td>NaN</td>\n",
       "      <td>NaN</td>\n",
       "      <td>NaN</td>\n",
       "      <td>POLYGON ((-156.67710 20.87156, -156.67778 20.8...</td>\n",
       "      <td>300</td>\n",
       "      <td>Non-residential</td>\n",
       "    </tr>\n",
       "    <tr>\n",
       "      <th>1</th>\n",
       "      <td>246002002</td>\n",
       "      <td>True</td>\n",
       "      <td>2006.0</td>\n",
       "      <td>NaN</td>\n",
       "      <td>2266900.0</td>\n",
       "      <td>6.0</td>\n",
       "      <td>0.0</td>\n",
       "      <td>6.0</td>\n",
       "      <td>8.0</td>\n",
       "      <td>3507.0</td>\n",
       "      <td>2436.0</td>\n",
       "      <td>POLYGON ((-156.67351 20.86514, -156.67370 20.8...</td>\n",
       "      <td>1100</td>\n",
       "      <td>Short-term Rental</td>\n",
       "    </tr>\n",
       "    <tr>\n",
       "      <th>2</th>\n",
       "      <td>246002004</td>\n",
       "      <td>False</td>\n",
       "      <td>1951.0</td>\n",
       "      <td>NaN</td>\n",
       "      <td>151000.0</td>\n",
       "      <td>2.0</td>\n",
       "      <td>0.0</td>\n",
       "      <td>4.0</td>\n",
       "      <td>7.0</td>\n",
       "      <td>1316.0</td>\n",
       "      <td>1316.0</td>\n",
       "      <td>POLYGON ((-156.67415 20.86584, -156.67378 20.8...</td>\n",
       "      <td>100</td>\n",
       "      <td>Non-Owner-Occupied/Residential</td>\n",
       "    </tr>\n",
       "    <tr>\n",
       "      <th>3</th>\n",
       "      <td>246002005</td>\n",
       "      <td>False</td>\n",
       "      <td>2009.0</td>\n",
       "      <td>NaN</td>\n",
       "      <td>2973700.0</td>\n",
       "      <td>6.0</td>\n",
       "      <td>1.0</td>\n",
       "      <td>7.0</td>\n",
       "      <td>8.0</td>\n",
       "      <td>5747.0</td>\n",
       "      <td>2739.0</td>\n",
       "      <td>POLYGON ((-156.67418 20.86614, -156.67395 20.8...</td>\n",
       "      <td>900</td>\n",
       "      <td>Owner-Occupied/Homeowner</td>\n",
       "    </tr>\n",
       "    <tr>\n",
       "      <th>4</th>\n",
       "      <td>246002006</td>\n",
       "      <td>False</td>\n",
       "      <td>1965.0</td>\n",
       "      <td>1977.0</td>\n",
       "      <td>598400.0</td>\n",
       "      <td>3.0</td>\n",
       "      <td>1.0</td>\n",
       "      <td>2.0</td>\n",
       "      <td>9.0</td>\n",
       "      <td>3272.0</td>\n",
       "      <td>2351.0</td>\n",
       "      <td>POLYGON ((-156.67455 20.86616, -156.67480 20.8...</td>\n",
       "      <td>900</td>\n",
       "      <td>Owner-Occupied/Homeowner</td>\n",
       "    </tr>\n",
       "    <tr>\n",
       "      <th>...</th>\n",
       "      <td>...</td>\n",
       "      <td>...</td>\n",
       "      <td>...</td>\n",
       "      <td>...</td>\n",
       "      <td>...</td>\n",
       "      <td>...</td>\n",
       "      <td>...</td>\n",
       "      <td>...</td>\n",
       "      <td>...</td>\n",
       "      <td>...</td>\n",
       "      <td>...</td>\n",
       "      <td>...</td>\n",
       "      <td>...</td>\n",
       "      <td>...</td>\n",
       "    </tr>\n",
       "    <tr>\n",
       "      <th>2590</th>\n",
       "      <td>246027999</td>\n",
       "      <td>False</td>\n",
       "      <td>NaN</td>\n",
       "      <td>NaN</td>\n",
       "      <td>NaN</td>\n",
       "      <td>NaN</td>\n",
       "      <td>NaN</td>\n",
       "      <td>NaN</td>\n",
       "      <td>NaN</td>\n",
       "      <td>NaN</td>\n",
       "      <td>NaN</td>\n",
       "      <td>POLYGON ((-156.67292 20.87798, -156.67292 20.8...</td>\n",
       "      <td>0</td>\n",
       "      <td>Timeshare</td>\n",
       "    </tr>\n",
       "    <tr>\n",
       "      <th>2591</th>\n",
       "      <td>246016999</td>\n",
       "      <td>False</td>\n",
       "      <td>NaN</td>\n",
       "      <td>NaN</td>\n",
       "      <td>NaN</td>\n",
       "      <td>NaN</td>\n",
       "      <td>NaN</td>\n",
       "      <td>NaN</td>\n",
       "      <td>NaN</td>\n",
       "      <td>NaN</td>\n",
       "      <td>NaN</td>\n",
       "      <td>MULTIPOLYGON (((-156.67195 20.87155, -156.6725...</td>\n",
       "      <td>0</td>\n",
       "      <td>Timeshare</td>\n",
       "    </tr>\n",
       "    <tr>\n",
       "      <th>2592</th>\n",
       "      <td>245005999</td>\n",
       "      <td>False</td>\n",
       "      <td>NaN</td>\n",
       "      <td>NaN</td>\n",
       "      <td>NaN</td>\n",
       "      <td>NaN</td>\n",
       "      <td>NaN</td>\n",
       "      <td>NaN</td>\n",
       "      <td>NaN</td>\n",
       "      <td>NaN</td>\n",
       "      <td>NaN</td>\n",
       "      <td>MULTIPOLYGON (((-156.68483 20.88576, -156.6848...</td>\n",
       "      <td>0</td>\n",
       "      <td>Timeshare</td>\n",
       "    </tr>\n",
       "    <tr>\n",
       "      <th>2593</th>\n",
       "      <td>247999999</td>\n",
       "      <td>False</td>\n",
       "      <td>NaN</td>\n",
       "      <td>NaN</td>\n",
       "      <td>NaN</td>\n",
       "      <td>NaN</td>\n",
       "      <td>NaN</td>\n",
       "      <td>NaN</td>\n",
       "      <td>NaN</td>\n",
       "      <td>NaN</td>\n",
       "      <td>NaN</td>\n",
       "      <td>POLYGON ((-156.65278 20.84364, -156.65296 20.8...</td>\n",
       "      <td>0</td>\n",
       "      <td>Timeshare</td>\n",
       "    </tr>\n",
       "    <tr>\n",
       "      <th>2594</th>\n",
       "      <td>245999999</td>\n",
       "      <td>True</td>\n",
       "      <td>NaN</td>\n",
       "      <td>NaN</td>\n",
       "      <td>NaN</td>\n",
       "      <td>NaN</td>\n",
       "      <td>NaN</td>\n",
       "      <td>NaN</td>\n",
       "      <td>NaN</td>\n",
       "      <td>NaN</td>\n",
       "      <td>NaN</td>\n",
       "      <td>POLYGON ((-156.68646 20.90608, -156.68598 20.9...</td>\n",
       "      <td>0</td>\n",
       "      <td>Timeshare</td>\n",
       "    </tr>\n",
       "  </tbody>\n",
       "</table>\n",
       "<p>2595 rows × 14 columns</p>\n",
       "</div>"
      ],
      "text/plain": [
       "        tmk_txt  damaged  yr_built  effec_yr  bldng_val  full_baths  \\\n",
       "0     246001009     True       NaN       NaN        NaN         NaN   \n",
       "1     246002002     True    2006.0       NaN  2266900.0         6.0   \n",
       "2     246002004    False    1951.0       NaN   151000.0         2.0   \n",
       "3     246002005    False    2009.0       NaN  2973700.0         6.0   \n",
       "4     246002006    False    1965.0    1977.0   598400.0         3.0   \n",
       "...         ...      ...       ...       ...        ...         ...   \n",
       "2590  246027999    False       NaN       NaN        NaN         NaN   \n",
       "2591  246016999    False       NaN       NaN        NaN         NaN   \n",
       "2592  245005999    False       NaN       NaN        NaN         NaN   \n",
       "2593  247999999    False       NaN       NaN        NaN         NaN   \n",
       "2594  245999999     True       NaN       NaN        NaN         NaN   \n",
       "\n",
       "      half_baths  bedrooms  rooms  sf_living  sf_bldng  \\\n",
       "0            NaN       NaN    NaN        NaN       NaN   \n",
       "1            0.0       6.0    8.0     3507.0    2436.0   \n",
       "2            0.0       4.0    7.0     1316.0    1316.0   \n",
       "3            1.0       7.0    8.0     5747.0    2739.0   \n",
       "4            1.0       2.0    9.0     3272.0    2351.0   \n",
       "...          ...       ...    ...        ...       ...   \n",
       "2590         NaN       NaN    NaN        NaN       NaN   \n",
       "2591         NaN       NaN    NaN        NaN       NaN   \n",
       "2592         NaN       NaN    NaN        NaN       NaN   \n",
       "2593         NaN       NaN    NaN        NaN       NaN   \n",
       "2594         NaN       NaN    NaN        NaN       NaN   \n",
       "\n",
       "                                               geometry  pittcode  \\\n",
       "0     POLYGON ((-156.67710 20.87156, -156.67778 20.8...       300   \n",
       "1     POLYGON ((-156.67351 20.86514, -156.67370 20.8...      1100   \n",
       "2     POLYGON ((-156.67415 20.86584, -156.67378 20.8...       100   \n",
       "3     POLYGON ((-156.67418 20.86614, -156.67395 20.8...       900   \n",
       "4     POLYGON ((-156.67455 20.86616, -156.67480 20.8...       900   \n",
       "...                                                 ...       ...   \n",
       "2590  POLYGON ((-156.67292 20.87798, -156.67292 20.8...         0   \n",
       "2591  MULTIPOLYGON (((-156.67195 20.87155, -156.6725...         0   \n",
       "2592  MULTIPOLYGON (((-156.68483 20.88576, -156.6848...         0   \n",
       "2593  POLYGON ((-156.65278 20.84364, -156.65296 20.8...         0   \n",
       "2594  POLYGON ((-156.68646 20.90608, -156.68598 20.9...         0   \n",
       "\n",
       "                           prop_type  \n",
       "0                    Non-residential  \n",
       "1                  Short-term Rental  \n",
       "2     Non-Owner-Occupied/Residential  \n",
       "3           Owner-Occupied/Homeowner  \n",
       "4           Owner-Occupied/Homeowner  \n",
       "...                              ...  \n",
       "2590                       Timeshare  \n",
       "2591                       Timeshare  \n",
       "2592                       Timeshare  \n",
       "2593                       Timeshare  \n",
       "2594                       Timeshare  \n",
       "\n",
       "[2595 rows x 14 columns]"
      ]
     },
     "execution_count": 13,
     "metadata": {},
     "output_type": "execute_result"
    }
   ],
   "source": [
    "joined"
   ]
  },
  {
   "cell_type": "code",
   "execution_count": 15,
   "metadata": {},
   "outputs": [],
   "source": [
    "gpd.GeoDataFrame(joined).to_file('./cleanedData/parcelDamagedData.shp', driver='ESRI Shapefile')"
   ]
  },
  {
   "cell_type": "code",
   "execution_count": 24,
   "metadata": {},
   "outputs": [
    {
     "data": {
      "text/plain": [
       "450475000.0"
      ]
     },
     "execution_count": 24,
     "metadata": {},
     "output_type": "execute_result"
    }
   ],
   "source": [
    "# joined.prop_type.unique()\n",
    "joined[(joined.damaged == True)&(~joined.prop_type.isin(['Non-residential', 'Multiple Codes', 'Timeshare']))].bldng_val.sum()\n"
   ]
  },
  {
   "cell_type": "code",
   "execution_count": 26,
   "metadata": {},
   "outputs": [
    {
     "data": {
      "text/plain": [
       "1971.0"
      ]
     },
     "execution_count": 26,
     "metadata": {},
     "output_type": "execute_result"
    }
   ],
   "source": [
    "joined[(joined.damaged == True)&(~joined.prop_type.isin(['Non-residential', 'Multiple Codes', 'Timeshare']))].yr_built.median()"
   ]
  },
  {
   "cell_type": "code",
   "execution_count": 23,
   "metadata": {},
   "outputs": [
    {
     "data": {
      "text/plain": [
       "1328.0"
      ]
     },
     "execution_count": 23,
     "metadata": {},
     "output_type": "execute_result"
    }
   ],
   "source": [
    "joined[(joined.damaged == True)&(~joined.prop_type.isin(['Non-residential', 'Multiple Codes', 'Timeshare']))].sf_bldng.median()"
   ]
  },
  {
   "cell_type": "code",
   "execution_count": 25,
   "metadata": {},
   "outputs": [
    {
     "data": {
      "text/plain": [
       "242700.0"
      ]
     },
     "execution_count": 25,
     "metadata": {},
     "output_type": "execute_result"
    }
   ],
   "source": [
    "joined[(joined.damaged == True)&(~joined.prop_type.isin(['Non-residential', 'Multiple Codes', 'Timeshare']))].bldng_val.median()"
   ]
  },
  {
   "cell_type": "code",
   "execution_count": 28,
   "metadata": {},
   "outputs": [
    {
     "data": {
      "text/plain": [
       "3.0"
      ]
     },
     "execution_count": 28,
     "metadata": {},
     "output_type": "execute_result"
    }
   ],
   "source": [
    "joined[(joined.damaged == True)&(~joined.prop_type.isin(['Non-residential', 'Multiple Codes', 'Timeshare']))].bedrooms.median()"
   ]
  },
  {
   "cell_type": "code",
   "execution_count": 31,
   "metadata": {},
   "outputs": [
    {
     "data": {
      "text/plain": [
       "2.0"
      ]
     },
     "execution_count": 31,
     "metadata": {},
     "output_type": "execute_result"
    }
   ],
   "source": [
    "joined[(joined.damaged == True)&(~joined.prop_type.isin(['Non-residential', 'Multiple Codes', 'Timeshare']))].full_baths.median()"
   ]
  },
  {
   "cell_type": "code",
   "execution_count": 33,
   "metadata": {},
   "outputs": [
    {
     "data": {
      "text/plain": [
       "1615.0"
      ]
     },
     "execution_count": 33,
     "metadata": {},
     "output_type": "execute_result"
    }
   ],
   "source": [
    "joined[(joined.damaged == True)&(~joined.prop_type.isin(['Non-residential', 'Multiple Codes', 'Timeshare']))].sf_living.median()"
   ]
  },
  {
   "cell_type": "code",
   "execution_count": 18,
   "metadata": {},
   "outputs": [
    {
     "data": {
      "text/plain": [
       "240300.0"
      ]
     },
     "execution_count": 18,
     "metadata": {},
     "output_type": "execute_result"
    }
   ],
   "source": [
    "fireParcels.loc[fireParcels.tmk_txt.isin(joined[(~joined.prop_type.isin(['Non-residential', 'Multiple Codes', 'Timeshare']))].tmk_txt.unique())].bldgvalue.median()"
   ]
  },
  {
   "cell_type": "code",
   "execution_count": 19,
   "metadata": {},
   "outputs": [
    {
     "data": {
      "text/plain": [
       "514400.0"
      ]
     },
     "execution_count": 19,
     "metadata": {},
     "output_type": "execute_result"
    }
   ],
   "source": [
    "fireParcels.loc[fireParcels.tmk_txt.isin(joined[(~joined.prop_type.isin(['Non-residential', 'Multiple Codes', 'Timeshare']))].tmk_txt.unique())].landvalue.median()"
   ]
  },
  {
   "cell_type": "code",
   "execution_count": 22,
   "metadata": {},
   "outputs": [
    {
     "data": {
      "text/plain": [
       "2242156500"
      ]
     },
     "execution_count": 22,
     "metadata": {},
     "output_type": "execute_result"
    }
   ],
   "source": [
    "fireParcels.loc[fireParcels.tmk_txt.isin(joined[(~joined.prop_type.isin(['Non-residential', 'Multiple Codes', 'Timeshare']))].tmk_txt.unique())].bldgvalue.sum() + \\\n",
    "fireParcels.loc[fireParcels.tmk_txt.isin(joined[(~joined.prop_type.isin(['Non-residential', 'Multiple Codes', 'Timeshare']))].tmk_txt.unique())].landvalue.sum()\n"
   ]
  },
  {
   "cell_type": "code",
   "execution_count": null,
   "metadata": {},
   "outputs": [],
   "source": []
  }
 ],
 "metadata": {
  "kernelspec": {
   "display_name": "hwFires",
   "language": "python",
   "name": "python3"
  },
  "language_info": {
   "codemirror_mode": {
    "name": "ipython",
    "version": 3
   },
   "file_extension": ".py",
   "mimetype": "text/x-python",
   "name": "python",
   "nbconvert_exporter": "python",
   "pygments_lexer": "ipython3",
   "version": "3.11.4"
  },
  "orig_nbformat": 4
 },
 "nbformat": 4,
 "nbformat_minor": 2
}
