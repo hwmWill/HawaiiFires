{
 "cells": [
  {
   "cell_type": "code",
   "execution_count": 1,
   "metadata": {},
   "outputs": [],
   "source": [
    "import geopandas as gpd"
   ]
  },
  {
   "cell_type": "code",
   "execution_count": 2,
   "metadata": {},
   "outputs": [],
   "source": [
    "buildingDamage = gpd.read_file('./data/InferencedBuildingDamage.zip')"
   ]
  },
  {
   "cell_type": "code",
   "execution_count": 3,
   "metadata": {},
   "outputs": [
    {
     "data": {
      "text/html": [
       "<div>\n",
       "<style scoped>\n",
       "    .dataframe tbody tr th:only-of-type {\n",
       "        vertical-align: middle;\n",
       "    }\n",
       "\n",
       "    .dataframe tbody tr th {\n",
       "        vertical-align: top;\n",
       "    }\n",
       "\n",
       "    .dataframe thead th {\n",
       "        text-align: right;\n",
       "    }\n",
       "</style>\n",
       "<table border=\"1\" class=\"dataframe\">\n",
       "  <thead>\n",
       "    <tr style=\"text-align: right;\">\n",
       "      <th></th>\n",
       "      <th>SQFT</th>\n",
       "      <th>centroid_x</th>\n",
       "      <th>centroid_y</th>\n",
       "      <th>ClassLabel</th>\n",
       "      <th>confidence</th>\n",
       "      <th>geometry</th>\n",
       "    </tr>\n",
       "  </thead>\n",
       "  <tbody>\n",
       "    <tr>\n",
       "      <th>0</th>\n",
       "      <td>1587.186082</td>\n",
       "      <td>1.641232e+06</td>\n",
       "      <td>189783.198385</td>\n",
       "      <td>Undamaged</td>\n",
       "      <td>0.752566</td>\n",
       "      <td>POLYGON Z ((-17439774.344 2374701.683 0.000, -...</td>\n",
       "    </tr>\n",
       "    <tr>\n",
       "      <th>1</th>\n",
       "      <td>5119.349378</td>\n",
       "      <td>1.641309e+06</td>\n",
       "      <td>189708.519477</td>\n",
       "      <td>Undamaged</td>\n",
       "      <td>0.922592</td>\n",
       "      <td>POLYGON Z ((-17439768.076 2374694.200 0.000, -...</td>\n",
       "    </tr>\n",
       "    <tr>\n",
       "      <th>2</th>\n",
       "      <td>3699.311998</td>\n",
       "      <td>1.641176e+06</td>\n",
       "      <td>189841.352373</td>\n",
       "      <td>Undamaged</td>\n",
       "      <td>0.944616</td>\n",
       "      <td>POLYGON Z ((-17439807.113 2374733.268 0.000, -...</td>\n",
       "    </tr>\n",
       "    <tr>\n",
       "      <th>3</th>\n",
       "      <td>1114.820722</td>\n",
       "      <td>1.641212e+06</td>\n",
       "      <td>189868.210536</td>\n",
       "      <td>Undamaged</td>\n",
       "      <td>0.996557</td>\n",
       "      <td>POLYGON Z ((-17439784.692 2374721.498 0.000, -...</td>\n",
       "    </tr>\n",
       "    <tr>\n",
       "      <th>4</th>\n",
       "      <td>5599.013839</td>\n",
       "      <td>1.641102e+06</td>\n",
       "      <td>189947.374974</td>\n",
       "      <td>Undamaged</td>\n",
       "      <td>0.987895</td>\n",
       "      <td>POLYGON Z ((-17439826.183 2374759.507 0.000, -...</td>\n",
       "    </tr>\n",
       "  </tbody>\n",
       "</table>\n",
       "</div>"
      ],
      "text/plain": [
       "          SQFT    centroid_x     centroid_y ClassLabel  confidence  \\\n",
       "0  1587.186082  1.641232e+06  189783.198385  Undamaged    0.752566   \n",
       "1  5119.349378  1.641309e+06  189708.519477  Undamaged    0.922592   \n",
       "2  3699.311998  1.641176e+06  189841.352373  Undamaged    0.944616   \n",
       "3  1114.820722  1.641212e+06  189868.210536  Undamaged    0.996557   \n",
       "4  5599.013839  1.641102e+06  189947.374974  Undamaged    0.987895   \n",
       "\n",
       "                                            geometry  \n",
       "0  POLYGON Z ((-17439774.344 2374701.683 0.000, -...  \n",
       "1  POLYGON Z ((-17439768.076 2374694.200 0.000, -...  \n",
       "2  POLYGON Z ((-17439807.113 2374733.268 0.000, -...  \n",
       "3  POLYGON Z ((-17439784.692 2374721.498 0.000, -...  \n",
       "4  POLYGON Z ((-17439826.183 2374759.507 0.000, -...  "
      ]
     },
     "execution_count": 3,
     "metadata": {},
     "output_type": "execute_result"
    }
   ],
   "source": [
    "buildingDamage.head()"
   ]
  },
  {
   "cell_type": "code",
   "execution_count": 7,
   "metadata": {},
   "outputs": [
    {
     "data": {
      "text/plain": [
       "(169.7189855225345, 1815.993145091119)"
      ]
     },
     "execution_count": 7,
     "metadata": {},
     "output_type": "execute_result"
    }
   ],
   "source": [
    "buildingDamage.iloc[0].geometry.area, buildingDamage.iloc[0].geometry.area * 10.7639"
   ]
  },
  {
   "cell_type": "code",
   "execution_count": 9,
   "metadata": {},
   "outputs": [
    {
     "data": {
      "text/plain": [
       "ClassLabel\n",
       "Damaged      2088\n",
       "Undamaged    1234\n",
       "Name: count, dtype: int64"
      ]
     },
     "execution_count": 9,
     "metadata": {},
     "output_type": "execute_result"
    }
   ],
   "source": [
    "buildingDamage.ClassLabel.value_counts()"
   ]
  },
  {
   "cell_type": "code",
   "execution_count": 39,
   "metadata": {},
   "outputs": [
    {
     "name": "stdout",
     "output_type": "stream",
     "text": [
      "<class 'geopandas.geodataframe.GeoDataFrame'>\n",
      "RangeIndex: 48567 entries, 0 to 48566\n",
      "Data columns (total 20 columns):\n",
      " #   Column        Non-Null Count  Dtype              \n",
      "---  ------        --------------  -----              \n",
      " 0   BUILD_ID      48567 non-null  int64              \n",
      " 1   OCC_CLS       48567 non-null  object             \n",
      " 2   PRIM_OCC      48567 non-null  object             \n",
      " 3   PROP_ST       48567 non-null  object             \n",
      " 4   SQMETERS      48567 non-null  float64            \n",
      " 5   SQFEET        48567 non-null  float64            \n",
      " 6   FIPS          48567 non-null  object             \n",
      " 7   CENSUSCODE    48567 non-null  object             \n",
      " 8   PROD_DATE     48567 non-null  datetime64[ns, UTC]\n",
      " 9   SOURCE        48567 non-null  object             \n",
      " 10  USNG          48567 non-null  object             \n",
      " 11  LONGITUDE     48567 non-null  float64            \n",
      " 12  LATITUDE      48567 non-null  float64            \n",
      " 13  IMAGE_NAME    48567 non-null  object             \n",
      " 14  IMAGE_DATE    48567 non-null  datetime64[ns, UTC]\n",
      " 15  VAL_METHOD    48567 non-null  object             \n",
      " 16  UUID          48567 non-null  object             \n",
      " 17  Shape_Length  48567 non-null  float64            \n",
      " 18  Shape_Area    48567 non-null  float64            \n",
      " 19  geometry      48567 non-null  geometry           \n",
      "dtypes: datetime64[ns, UTC](2), float64(6), geometry(1), int64(1), object(10)\n",
      "memory usage: 7.4+ MB\n"
     ]
    }
   ],
   "source": [
    "### Generating Maui\n",
    "# structureType = gpd.read_file('./data/Deliverable20230526HI/Deliverable20230526HI/HI_Structures.gdb')\n",
    "# maui = structureType.loc[structureType.FIPS == '15009']\n",
    "# maui.dropna(axis=1, how='any', inplace=True)\n",
    "# maui.to_file('./data/mauiStructureTypes.json', driver='GeoJSON')\n",
    "\n",
    "maui = gpd.read_file('./data/mauiStructureTypes.json')\n",
    "maui.info()"
   ]
  },
  {
   "cell_type": "code",
   "execution_count": 40,
   "metadata": {},
   "outputs": [
    {
     "name": "stderr",
     "output_type": "stream",
     "text": [
      "c:\\Users\\WilliamRobinson\\OneDrive - HW Publishing LLC\\Documents\\Coding\\HawaiiFires\\hwFires\\Lib\\site-packages\\IPython\\core\\interactiveshell.py:3448: FutureWarning: The `op` parameter is deprecated and will be removed in a future release. Please use the `predicate` parameter instead.\n",
      "  if await self.run_code(code, result, async_=asy):\n",
      "C:\\Users\\WilliamRobinson\\AppData\\Local\\Temp\\ipykernel_13316\\2527902293.py:1: UserWarning: CRS mismatch between the CRS of left geometries and the CRS of right geometries.\n",
      "Use `to_crs()` to reproject one of the input geometries to match the CRS of the other.\n",
      "\n",
      "Left CRS: EPSG:3857\n",
      "Right CRS: EPSG:4326\n",
      "\n",
      "  gpd.sjoin(buildingDamage, maui, op='within')\n"
     ]
    },
    {
     "data": {
      "text/html": [
       "<div>\n",
       "<style scoped>\n",
       "    .dataframe tbody tr th:only-of-type {\n",
       "        vertical-align: middle;\n",
       "    }\n",
       "\n",
       "    .dataframe tbody tr th {\n",
       "        vertical-align: top;\n",
       "    }\n",
       "\n",
       "    .dataframe thead th {\n",
       "        text-align: right;\n",
       "    }\n",
       "</style>\n",
       "<table border=\"1\" class=\"dataframe\">\n",
       "  <thead>\n",
       "    <tr style=\"text-align: right;\">\n",
       "      <th></th>\n",
       "      <th>SQFT</th>\n",
       "      <th>centroid_x</th>\n",
       "      <th>centroid_y</th>\n",
       "      <th>ClassLabel</th>\n",
       "      <th>confidence</th>\n",
       "      <th>geometry</th>\n",
       "      <th>index_right</th>\n",
       "      <th>BUILD_ID</th>\n",
       "      <th>OCC_CLS</th>\n",
       "      <th>PRIM_OCC</th>\n",
       "      <th>...</th>\n",
       "      <th>SOURCE</th>\n",
       "      <th>USNG</th>\n",
       "      <th>LONGITUDE</th>\n",
       "      <th>LATITUDE</th>\n",
       "      <th>IMAGE_NAME</th>\n",
       "      <th>IMAGE_DATE</th>\n",
       "      <th>VAL_METHOD</th>\n",
       "      <th>UUID</th>\n",
       "      <th>Shape_Length</th>\n",
       "      <th>Shape_Area</th>\n",
       "    </tr>\n",
       "  </thead>\n",
       "  <tbody>\n",
       "  </tbody>\n",
       "</table>\n",
       "<p>0 rows × 26 columns</p>\n",
       "</div>"
      ],
      "text/plain": [
       "Empty GeoDataFrame\n",
       "Columns: [SQFT, centroid_x, centroid_y, ClassLabel, confidence, geometry, index_right, BUILD_ID, OCC_CLS, PRIM_OCC, PROP_ST, SQMETERS, SQFEET, FIPS, CENSUSCODE, PROD_DATE, SOURCE, USNG, LONGITUDE, LATITUDE, IMAGE_NAME, IMAGE_DATE, VAL_METHOD, UUID, Shape_Length, Shape_Area]\n",
       "Index: []\n",
       "\n",
       "[0 rows x 26 columns]"
      ]
     },
     "execution_count": 40,
     "metadata": {},
     "output_type": "execute_result"
    }
   ],
   "source": [
    "gpd.sjoin(buildingDamage, maui, op='within')"
   ]
  },
  {
   "cell_type": "code",
   "execution_count": null,
   "metadata": {},
   "outputs": [],
   "source": []
  }
 ],
 "metadata": {
  "kernelspec": {
   "display_name": "hwFires",
   "language": "python",
   "name": "python3"
  },
  "language_info": {
   "codemirror_mode": {
    "name": "ipython",
    "version": 3
   },
   "file_extension": ".py",
   "mimetype": "text/x-python",
   "name": "python",
   "nbconvert_exporter": "python",
   "pygments_lexer": "ipython3",
   "version": "3.11.4"
  },
  "orig_nbformat": 4
 },
 "nbformat": 4,
 "nbformat_minor": 2
}
