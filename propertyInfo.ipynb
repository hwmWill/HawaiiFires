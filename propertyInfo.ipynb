{
 "cells": [
  {
   "cell_type": "code",
   "execution_count": 10,
   "metadata": {},
   "outputs": [],
   "source": [
    "from selenium import webdriver\n",
    "# from selenium.webdriver.common.by import By\n",
    "# from selenium.webdriver.support.wait import WebDriverWait\n",
    "# from selenium.webdriver.support import expected_conditions as EC\n",
    "\n",
    "from  bs4 import BeautifulSoup\n",
    "\n",
    "import pandas as pd"
   ]
  },
  {
   "cell_type": "code",
   "execution_count": 11,
   "metadata": {},
   "outputs": [],
   "source": [
    "url = 'https://qpublic.schneidercorp.com/Application.aspx?AppID=1029&PageTypeID=4&KeyValue=460010090000'\n",
    "url2 = 'https://qpublic.schneidercorp.com/Application.aspx?AppID=1029&LayerID=21689&PageTypeID=4&PageID=9251&KeyValue=340280530000'\n",
    "\n",
    "driver = webdriver.Chrome()\n",
    "driver.get(url)\n",
    "page = driver.page_source \n",
    "soup = BeautifulSoup(page)\n",
    "driver.quit()"
   ]
  },
  {
   "cell_type": "code",
   "execution_count": 12,
   "metadata": {},
   "outputs": [],
   "source": [
    "tbodies = soup.find_all(id='maincontent')[0].find_all('tbody')\n"
   ]
  },
  {
   "cell_type": "code",
   "execution_count": 4,
   "metadata": {},
   "outputs": [
    {
     "data": {
      "text/html": [
       "<div>\n",
       "<style scoped>\n",
       "    .dataframe tbody tr th:only-of-type {\n",
       "        vertical-align: middle;\n",
       "    }\n",
       "\n",
       "    .dataframe tbody tr th {\n",
       "        vertical-align: top;\n",
       "    }\n",
       "\n",
       "    .dataframe thead th {\n",
       "        text-align: right;\n",
       "    }\n",
       "</style>\n",
       "<table border=\"1\" class=\"dataframe\">\n",
       "  <thead>\n",
       "    <tr style=\"text-align: right;\">\n",
       "      <th></th>\n",
       "      <th>Parcel Number</th>\n",
       "      <th>Location Address</th>\n",
       "      <th>Neighborhood Code</th>\n",
       "      <th>Legal Information</th>\n",
       "      <th>Land Area</th>\n",
       "      <th>Parcel Note</th>\n",
       "    </tr>\n",
       "  </thead>\n",
       "  <tbody>\n",
       "    <tr>\n",
       "      <th>0</th>\n",
       "      <td>460010090000</td>\n",
       "      <td>648   WHARF ST   LAHAINA HI 96761</td>\n",
       "      <td>4624-3</td>\n",
       "      <td></td>\n",
       "      <td>1.94 Acres</td>\n",
       "      <td>Non taxable</td>\n",
       "    </tr>\n",
       "  </tbody>\n",
       "</table>\n",
       "</div>"
      ],
      "text/plain": [
       "  Parcel Number                   Location Address Neighborhood Code  \\\n",
       "0  460010090000  648   WHARF ST   LAHAINA HI 96761            4624-3   \n",
       "\n",
       "  Legal Information   Land Area  Parcel Note  \n",
       "0                    1.94 Acres  Non taxable  "
      ]
     },
     "execution_count": 4,
     "metadata": {},
     "output_type": "execute_result"
    }
   ],
   "source": [
    "parcel_tableHeaders = soup.find('section', id='ctlBodyPane_ctl00_mSection').find_all('th')\n",
    "parcel_tableRows = soup.find('section', id='ctlBodyPane_ctl00_mSection').find_all('td')\n",
    "pd.DataFrame(dict(zip([x.text.strip() for x in parcel_tableHeaders],\n",
    "[[x.text.strip()] for x in parcel_tableRows])))\n"
   ]
  },
  {
   "cell_type": "code",
   "execution_count": 13,
   "metadata": {},
   "outputs": [
    {
     "name": "stdout",
     "output_type": "stream",
     "text": [
      "          Damage\n",
      "0  Destroyed 823\n"
     ]
    }
   ],
   "source": [
    "try:\n",
    "    d = {tbodies[3].th.text.strip():[tbodies[3].td.text.strip()]}\n",
    "    assert [*d.keys()][0] == 'Damage'\n",
    "    print(pd.DataFrame(d))\n",
    "except:\n",
    "    pass"
   ]
  },
  {
   "cell_type": "code",
   "execution_count": 5,
   "metadata": {},
   "outputs": [
    {
     "data": {
      "text/plain": [
       "(['STATE OF HAWAII  Fee Owner', 'COUNTY OF MAUI  Executive order'], 2)"
      ]
     },
     "execution_count": 5,
     "metadata": {},
     "output_type": "execute_result"
    }
   ],
   "source": [
    "ownerInfo = soup.find('section', id='ctlBodyPane_ctl02_mSection')\n",
    "owners = ownerInfo.get_text(strip=True, separator='<br>').split('Show All Owners and Addresses')[0].split('Owner Names')[1].split('<br>')\n",
    "owners = [x.replace('\\xa0\\xa0\\xa0','') for x in owners]\n",
    "owners.remove('')\n",
    "owners.remove('')\n",
    "owners, len(owners)"
   ]
  },
  {
   "cell_type": "code",
   "execution_count": 9,
   "metadata": {},
   "outputs": [
    {
     "data": {
      "text/plain": [
       "'Building Number'"
      ]
     },
     "execution_count": 9,
     "metadata": {},
     "output_type": "execute_result"
    }
   ],
   "source": [
    "soup.find(id='ctlBodyPane_ctl13_mSection').find_all('th')[0].text.strip()"
   ]
  },
  {
   "cell_type": "code",
   "execution_count": 96,
   "metadata": {},
   "outputs": [
    {
     "name": "stdout",
     "output_type": "stream",
     "text": [
      "          Damage\n",
      "0  Destroyed 823\n"
     ]
    }
   ],
   "source": []
  },
  {
   "cell_type": "code",
   "execution_count": 101,
   "metadata": {},
   "outputs": [
    {
     "name": "stdout",
     "output_type": "stream",
     "text": [
      "<section class=\"avoid-page-break\" id=\"ctlBodyPane_ctl01_mSection\">\n",
      "<header class=\"module-header\" defaultvisibility=\"True\" id=\"ctlBodyPane_ctl01_divHeader\" moduleid=\"45091\">\n",
      "<a aria-expanded=\"true\" class=\"toggle-collapse\" href=\"/Application.aspx?AppID=1029&amp;LayerID=21689&amp;PageTypeID=4&amp;PageID=9251&amp;Q=1941758714&amp;KeyValue=460010090000\" id=\"ctlBodyPane_ctl01_btnHeaderToggle\">\n",
      "<span class=\"toggle-collapse-icon icon icon-minus-squared-alt\" id=\"ctlBodyPane_ctl01_btnToggleVis\"></span>\n",
      "<div aria-level=\"2\" class=\"title sr-only\" id=\"ctlBodyPane_ctl01_lblName\" role=\"heading\">Untitled Section</div>\n",
      "</a>\n",
      "</header>\n",
      "<div class=\"module-content\">\n",
      "<table cellspacing=\"0\" id=\"ctlBodyPane_ctl01_ctl01_lstReport\" role=\"presentation\" style=\"width:100%;border-collapse:collapse;\">\n",
      "<tbody><tr>\n",
      "<td>\n",
      "<table class=\"tabular-data-two-column\" role=\"presentation\"> <tbody><tr> <th scope=\"row\"> <strong>Damage</strong></th><td>     Destroyed 823      </td> </tr> </tbody></table>\n",
      "</td>\n",
      "</tr>\n",
      "</tbody></table>\n",
      "</div>\n",
      "</section>\n"
     ]
    }
   ],
   "source": [
    "try:\n",
    "    print(soup.find('section', id='ctlBodyPane_ctl01_mSection'))\n",
    "except:\n",
    "    print('not found')"
   ]
  },
  {
   "cell_type": "code",
   "execution_count": null,
   "metadata": {},
   "outputs": [],
   "source": []
  }
 ],
 "metadata": {
  "kernelspec": {
   "display_name": "hwFires",
   "language": "python",
   "name": "python3"
  },
  "language_info": {
   "codemirror_mode": {
    "name": "ipython",
    "version": 3
   },
   "file_extension": ".py",
   "mimetype": "text/x-python",
   "name": "python",
   "nbconvert_exporter": "python",
   "pygments_lexer": "ipython3",
   "version": "3.11.4"
  },
  "orig_nbformat": 4
 },
 "nbformat": 4,
 "nbformat_minor": 2
}
